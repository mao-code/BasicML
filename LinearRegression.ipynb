{
  "nbformat": 4,
  "nbformat_minor": 0,
  "metadata": {
    "colab": {
      "provenance": [],
      "gpuType": "T4"
    },
    "kernelspec": {
      "name": "python3",
      "display_name": "Python 3"
    },
    "language_info": {
      "name": "python"
    },
    "accelerator": "GPU"
  },
  "cells": [
    {
      "cell_type": "markdown",
      "source": [
        "# Initialization"
      ],
      "metadata": {
        "id": "waQFZv--cARJ"
      }
    },
    {
      "cell_type": "markdown",
      "source": [
        "## Package Loading"
      ],
      "metadata": {
        "id": "EP_8SqyTcDIT"
      }
    },
    {
      "cell_type": "code",
      "source": [
        "from typing import *\n",
        "\n",
        "import numpy as np\n",
        "import pandas as pd\n",
        "import matplotlib.pyplot as plt\n",
        "\n",
        "from sklearn.model_selection import train_test_split\n",
        "from sklearn.linear_model import LinearRegression\n",
        "from sklearn.metrics import mean_squared_error, r2_score"
      ],
      "metadata": {
        "id": "5TWHm73BfBcm"
      },
      "execution_count": 1,
      "outputs": []
    },
    {
      "cell_type": "markdown",
      "source": [
        "## Model Initialization\n",
        "* model:\n",
        "$$y=w_1a_1 + w_0a_0$$"
      ],
      "metadata": {
        "id": "0J46iyk4cE3F"
      }
    },
    {
      "cell_type": "code",
      "execution_count": 2,
      "metadata": {
        "id": "5f5O41gxbmIx"
      },
      "outputs": [],
      "source": [
        "class LR_model:\n",
        "  def __init__(self, w1, w0):\n",
        "    self.w1 = w1\n",
        "    self.w0 = w0\n",
        "\n",
        "\n",
        "  def get_predict_result(self, a1: np.ndarray) -> np.ndarray:\n",
        "    a0 = 1\n",
        "    pred = []\n",
        "    for inp in a1:\n",
        "      pred.append(self.w1*inp + self.w0*a0)\n",
        "\n",
        "    return np.array(pred)"
      ]
    },
    {
      "cell_type": "markdown",
      "source": [
        "# Data Loading\n",
        "* Dataset:\n",
        "$$ D = (-3, -2.5), (-1, 0.8), (1, 4), (3, 2), (5, 5.3)$$\n",
        "* 假設第一個數字是輸入, 第二個數字是輸出"
      ],
      "metadata": {
        "id": "eDXG-kx2caZS"
      }
    },
    {
      "cell_type": "code",
      "source": [
        "D = np.array([[-3.0, -2.5], [-1.0, 0.8], [1.0, 4.0], [3.0, 2.0], [5.0, 5.3]])"
      ],
      "metadata": {
        "id": "oL0iZuYqcuvD"
      },
      "execution_count": 3,
      "outputs": []
    },
    {
      "cell_type": "code",
      "source": [
        "D[:,0]"
      ],
      "metadata": {
        "colab": {
          "base_uri": "https://localhost:8080/"
        },
        "id": "y9LHavNOr43s",
        "outputId": "891b9e48-a2d8-4f5c-9723-105454412b6e"
      },
      "execution_count": 4,
      "outputs": [
        {
          "output_type": "execute_result",
          "data": {
            "text/plain": [
              "array([-3., -1.,  1.,  3.,  5.])"
            ]
          },
          "metadata": {},
          "execution_count": 4
        }
      ]
    },
    {
      "cell_type": "markdown",
      "source": [
        "# Q1\n",
        "* 這邊的error假設是MSE\n",
        "* $E = \\sum_{i=1}^{n}{(y-\\hat{y})^2}$"
      ],
      "metadata": {
        "id": "anC07cepczgE"
      }
    },
    {
      "cell_type": "code",
      "source": [
        "# predict and ground truth\n",
        "def MSE(pred: np.ndarray, gt: np.ndarray) -> float:\n",
        "  n = len(pred)\n",
        "  mse = 0\n",
        "  for i in range(n):\n",
        "    sq_err = (pred[i] - gt[i])**2\n",
        "    mse += sq_err\n",
        "\n",
        "  return mse"
      ],
      "metadata": {
        "id": "4mWI8QaWe-xv"
      },
      "execution_count": 5,
      "outputs": []
    },
    {
      "cell_type": "code",
      "source": [
        "model = LR_model(0.97, 1.1)"
      ],
      "metadata": {
        "id": "5a2sZXUlc0P1"
      },
      "execution_count": 6,
      "outputs": []
    },
    {
      "cell_type": "code",
      "source": [
        "total_error = MSE(model.get_predict_result(D[:, 0]), D[:, 1])\n",
        "print(f\"The total error is: {total_error}\")"
      ],
      "metadata": {
        "colab": {
          "base_uri": "https://localhost:8080/"
        },
        "id": "pe5U-F90e8KE",
        "outputId": "d29c8584-48f7-406e-cae1-379f4cc2129f"
      },
      "execution_count": 7,
      "outputs": [
        {
          "output_type": "stream",
          "name": "stdout",
          "text": [
            "The total error is: 9.112499999999997\n"
          ]
        }
      ]
    },
    {
      "cell_type": "markdown",
      "source": [
        "# Q2\n",
        "$Error = f(w_0, w_1)$\n",
        "* 想要利用Mean Square Error的觀念套用在Error上。我想要找到一組$(w_0, w_1)$，使得MSE能夠最小\n",
        "---\n",
        "1. 列出MSE的定義：\n",
        "$$Error = f(w_0, w_1) = \\sum_{i=1}^{n}{(y-\\hat{y})^2}$$\n",
        "2. 其中 $\\hat{y}$ 是我們的模型輸出，$\\hat{y}=w_1a_1 + w_0a_0 ; a_0=1$，所以： $$Error = f(w_0, w_1) = \\sum_{i=1}^{n}{(y-(w_1a_1 + w_0a_0))^2}$$\n",
        "3. 展開後的結果是：\n",
        "$$Error = f(w_0, w_1) = \\sum_{i=1}^{n}{y^2 + a_1^2w_1^2 + a_0^2w_0^2 - 2yw_1a_1 - 2yw_0a_0 + 2w_1w_0a_1a_0}$$"
      ],
      "metadata": {
        "id": "nLVK1UEyjDeM"
      }
    },
    {
      "cell_type": "markdown",
      "source": [
        "# Q3"
      ],
      "metadata": {
        "id": "sXRc06P2qDYr"
      }
    },
    {
      "cell_type": "markdown",
      "source": [
        "* 利用偏微分技巧，對$Error$內的每個變數做偏微分，會得到一個聯立方程組\n",
        "* 令每個方程組裡面的方程式等於0，可以求得方程式中的極值\n",
        "* 由於$w_0$與$w_1$的最高次數為2次，且開口向下，因此微分等於0的情況只會存在於最低點(global minima)\n",
        "\n",
        "---\n",
        "(下面式子已經將$a_0=1$代入，並且以n筆資料為例，省略sum符號的上下標) \\\\\n",
        " \\\\\n",
        "對$w_1$做偏微分：\n",
        "$$\\frac{\\partial}{\\partial w_0}\\left(\\sum_{i=1}^{n}{(y_i-(w_1a_{1i} + w_0))^2}\\right) = -2\\sum a_{1i}(y_i - (w_1 \\cdot a_{1i} + w_0))$$\n",
        "\n",
        "對$w_0$做偏微分：\n",
        "$$\\frac{\\partial}{\\partial w_1}\\left(\\sum_{i=1}^{n}{(y_i-(w_1a_{1i} + w_0))^2}\\right) = -2\\sum (y_i - (w_1 \\cdot a_{1i} + w_0))$$\n",
        "\n",
        "把式子寫成一個聯立方程組：\n",
        "$$\n",
        "\\begin{cases}\n",
        "-2\\sum a_{1i}(y_i - (w_1 \\cdot a_{1i} + w_0)) &= 0 \\\\\n",
        "-2\\sum (y_i - (w_1 \\cdot a_{1i} + w_0)) &= 0\n",
        "\\end{cases}\n",
        "$$ \\\\\n",
        "\n",
        "由第二條式子得到 $w_0 = \\frac{1}{n}\\sum{y_i-w_1a_{1i}}$ \\\\\n",
        "由第一條式子得到 $ \\sum{y_ia_{1i}} - \\sum{w_1a_{1i}^2} - \\sum{w_0a_{1i}} = 0 $ \\\\\n",
        "將上面的第一條式子帶入第二條式子即可求得$w_1$\n",
        " \\\\\n",
        "\n",
        "最後解出$w_0$與$w_1$分別為：\n",
        "\n",
        "$$\n",
        "\\begin{cases}\n",
        "w_1 = \\frac{\\sum{(y_i-y_{avg})(a_{1i}-a_{1avg})}}{\\sum{(a_{1i}-a_{1avg}})^2} \\\\\n",
        " \\\\\n",
        "w_0 = \\frac{1}{n}\\sum{y_i-w_1a_{1i}} = y_{avg} - a_{1avg}w_1\n",
        "\\end{cases}\n",
        "$$"
      ],
      "metadata": {
        "id": "KXnxONUpqO7D"
      }
    },
    {
      "cell_type": "markdown",
      "source": [
        "# Q4"
      ],
      "metadata": {
        "id": "6m5o4ttTFJs4"
      }
    },
    {
      "cell_type": "code",
      "source": [
        "y_avg = np.mean(D[:, 1])\n",
        "y_i_minus_avg = D[:, 1] - y_avg\n",
        "\n",
        "a1_avg = np.mean(D[:, 0])\n",
        "a1_i_minus_avg = D[:, 1] - a1_avg\n",
        "\n",
        "new_w1 = np.sum(y_i_minus_avg * a1_i_minus_avg) / np.sum(np.square(a1_i_minus_avg))\n",
        "new_w0 = y_avg - a1_avg*new_w1\n",
        "\n",
        "print(f\"w1: {new_w1}, w0: {new_w0}\")\n",
        "\n",
        "new_model = LR_model(new_w1, new_w0)"
      ],
      "metadata": {
        "colab": {
          "base_uri": "https://localhost:8080/"
        },
        "id": "HKF9jdHmrYhL",
        "outputId": "c10d0f1a-2b96-450c-98c3-de8e115a8894"
      },
      "execution_count": 8,
      "outputs": [
        {
          "output_type": "stream",
          "name": "stdout",
          "text": [
            "w1: 0.8962236390387444, w0: 1.0237763609612556\n"
          ]
        }
      ]
    },
    {
      "cell_type": "code",
      "source": [
        "new_total_error = MSE(new_model.get_predict_result(D[:, 0]), D[:, 1])\n",
        "print(f\"The Q1 total error is: {total_error}\")\n",
        "print(f\"The new total error is: {new_total_error}\\n\")\n",
        "print(\"由此可知，f(w1*, w0*)所得到的total error，比問題一的還要小\")"
      ],
      "metadata": {
        "colab": {
          "base_uri": "https://localhost:8080/"
        },
        "id": "2bB69M5_aI4E",
        "outputId": "135dfee3-06c5-4118-ef38-51bc2a367cb7"
      },
      "execution_count": 9,
      "outputs": [
        {
          "output_type": "stream",
          "name": "stdout",
          "text": [
            "The Q1 total error is: 9.112499999999997\n",
            "The new total error is: 8.450443903470362\n",
            "\n",
            "由此可知，f(w1*, w0*)所得到的total error，比問題一的還要小\n"
          ]
        }
      ]
    },
    {
      "cell_type": "markdown",
      "source": [
        "# Q5\n",
        "* 這邊我打算用MSE的方式，來比較兩個模型在測試資料上的好壞"
      ],
      "metadata": {
        "id": "HBYz3mmbFMs_"
      }
    },
    {
      "cell_type": "code",
      "source": [
        "D_test = np.array([[2.5, 2.5], [3.7,3.8]])"
      ],
      "metadata": {
        "id": "cVyRC5HjFNXd"
      },
      "execution_count": 10,
      "outputs": []
    },
    {
      "cell_type": "code",
      "source": [
        "test_original_mse = MSE(model.get_predict_result(D_test[:, 0]), D_test[:, 1])\n",
        "test_new_mse = MSE(new_model.get_predict_result(D_test[:, 0]), D_test[:, 1])"
      ],
      "metadata": {
        "id": "EeRhL69NbQTN"
      },
      "execution_count": 11,
      "outputs": []
    },
    {
      "cell_type": "code",
      "source": [
        "print(f\"The MSE of testing data in the original model is: {test_original_mse}\")\n",
        "print(f\"The MSE of testing data in the new model is: {test_new_mse}\\n\")"
      ],
      "metadata": {
        "colab": {
          "base_uri": "https://localhost:8080/"
        },
        "id": "Efj4pG2Abp9J",
        "outputId": "6a75ca96-2827-4af5-f0ae-3cbce94e9102"
      },
      "execution_count": 12,
      "outputs": [
        {
          "output_type": "stream",
          "name": "stdout",
          "text": [
            "The MSE of testing data in the original model is: 1.8409460000000002\n",
            "The MSE of testing data in the new model is: 0.8755968631306978\n",
            "\n"
          ]
        }
      ]
    },
    {
      "cell_type": "code",
      "source": [
        "print(\"\"\"\n",
        "由MSE的比較結果可知，在這組testing data上，後來的模型(透過偏微分推導的模型)取得了較好的結果\n",
        "下面用畫圖的方式來定性分析驗證結果\n",
        "\"\"\")"
      ],
      "metadata": {
        "colab": {
          "base_uri": "https://localhost:8080/"
        },
        "id": "MAj7FOOHb3eM",
        "outputId": "f8e6ec24-bd62-4286-d37d-c34256c2a98d"
      },
      "execution_count": 13,
      "outputs": [
        {
          "output_type": "stream",
          "name": "stdout",
          "text": [
            "\n",
            "由MSE的比較結果可知，在這組testing data上，後來的模型(透過偏微分推導的模型)取得了較好的結果\n",
            "下面用畫圖的方式來定性分析驗證結果\n",
            "\n"
          ]
        }
      ]
    },
    {
      "cell_type": "code",
      "source": [
        "# 訓練資料、測試資料、model、new_model 示意圖\n",
        "plt.scatter(D[:, 0], D[:, 1], label='D', color='blue')\n",
        "plt.scatter(D_test[:,0], D_test[:,1], label='D_test', color='red')\n",
        "\n",
        "original_x = np.linspace(-4, 6, 100)\n",
        "original_y = model.get_predict_result(original_x)\n",
        "\n",
        "new_x = np.linspace(-4, 6, 100)\n",
        "new_y = new_model.get_predict_result(new_x)\n",
        "\n",
        "plt.plot(original_x, original_y, label='original model', color='green')\n",
        "plt.plot(new_x, new_y, label='new model', color='purple')\n",
        "\n",
        "plt.legend(loc='best')\n",
        "\n",
        "plt.show"
      ],
      "metadata": {
        "colab": {
          "base_uri": "https://localhost:8080/",
          "height": 448
        },
        "id": "2T-suXoFdbh8",
        "outputId": "3d2d9b3f-7408-4358-cf6b-ddd079ea3ec0"
      },
      "execution_count": 14,
      "outputs": [
        {
          "output_type": "execute_result",
          "data": {
            "text/plain": [
              "<function matplotlib.pyplot.show(close=None, block=None)>"
            ]
          },
          "metadata": {},
          "execution_count": 14
        },
        {
          "output_type": "display_data",
          "data": {
            "text/plain": [
              "<Figure size 640x480 with 1 Axes>"
            ],
            "image/png": "[encoded data removed]"
          },
          "metadata": {}
        }
      ]
    }
  ]
}