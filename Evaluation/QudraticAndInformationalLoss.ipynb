{
  "nbformat": 4,
  "nbformat_minor": 0,
  "metadata": {
    "colab": {
      "provenance": []
    },
    "kernelspec": {
      "name": "python3",
      "display_name": "Python 3"
    },
    "language_info": {
      "name": "python"
    }
  },
  "cells": [
    {
      "cell_type": "markdown",
      "source": [
        "# Environment Setup"
      ],
      "metadata": {
        "id": "G4ZhrJ4sIhkw"
      }
    },
    {
      "cell_type": "code",
      "execution_count": null,
      "metadata": {
        "id": "vMDMDilVIRI6"
      },
      "outputs": [],
      "source": [
        "import numpy as np\n",
        "import pandas as pd\n",
        "import matplotlib.pyplot as plt\n",
        "\n",
        "from sklearn.preprocessing import OneHotEncoder\n",
        "from sklearn.metrics import confusion_matrix\n",
        "\n",
        "import seaborn as sns"
      ]
    },
    {
      "cell_type": "markdown",
      "source": [
        "# Data"
      ],
      "metadata": {
        "id": "LL6sAzg1Ikyx"
      }
    },
    {
      "cell_type": "markdown",
      "source": [
        "## Load"
      ],
      "metadata": {
        "id": "1DCFhhRTLrE1"
      }
    },
    {
      "cell_type": "code",
      "source": [
        "!gdown --id 1-60NwQctpLKzM-7Ok7rYtwUeDSVaF6O7 -O /content/data.csv"
      ],
      "metadata": {
        "colab": {
          "base_uri": "https://localhost:8080/"
        },
        "id": "BBoS2Y4SIlar",
        "outputId": "512bcffb-3915-4134-a5a5-c8afcc8b122e"
      },
      "execution_count": null,
      "outputs": [
        {
          "output_type": "stream",
          "name": "stdout",
          "text": [
            "/usr/local/lib/python3.10/dist-packages/gdown/cli.py:121: FutureWarning: Option `--id` was deprecated in version 4.3.1 and will be removed in 5.0. You don't need to pass it anymore to use a file ID.\n",
            "  warnings.warn(\n",
            "Downloading...\n",
            "From: https://drive.google.com/uc?id=1-60NwQctpLKzM-7Ok7rYtwUeDSVaF6O7\n",
            "To: /content/data.csv\n",
            "100% 52.9k/52.9k [00:00<00:00, 77.9MB/s]\n"
          ]
        }
      ]
    },
    {
      "cell_type": "code",
      "source": [
        "df = pd.read_csv(\"/content/data.csv\")"
      ],
      "metadata": {
        "id": "XRUM2m_3L-U-"
      },
      "execution_count": null,
      "outputs": []
    },
    {
      "cell_type": "code",
      "source": [
        "df"
      ],
      "metadata": {
        "colab": {
          "base_uri": "https://localhost:8080/",
          "height": 461
        },
        "id": "YzEi1pYkMCYl",
        "outputId": "8ec983d7-c037-4010-d586-aafee2e9df53"
      },
      "execution_count": null,
      "outputs": [
        {
          "output_type": "execute_result",
          "data": {
            "text/plain": [
              "    Unnamed: 0 Unnamed: 1      甲分類器  Unnamed: 3  Unnamed: 4  Unnamed: 5  \\\n",
              "0           id     actual  1.000000    2.000000    3.000000    4.000000   \n",
              "1            1          4  0.271475    0.375280    0.347025    0.006220   \n",
              "2            2          3  0.106291    0.326531    0.442735    0.124443   \n",
              "3            3          3  0.252291    0.232986    0.292070    0.222653   \n",
              "4            4          4  0.419201    0.286819    0.162992    0.130988   \n",
              "..         ...        ...       ...         ...         ...         ...   \n",
              "296        296          3  0.197004    0.230437    0.390207    0.182352   \n",
              "297        297          4  0.142427    0.232935    0.364361    0.260277   \n",
              "298        298          1  0.448272    0.148920    0.274030    0.128778   \n",
              "299        299          4  0.163382    0.113212    0.352721    0.370685   \n",
              "300        300          2  0.483087    0.033635    0.108161    0.375118   \n",
              "\n",
              "     Unnamed: 6      乙分類器  Unnamed: 8  Unnamed: 9  ...  Unnamed: 25  \\\n",
              "0           NaN  1.000000    2.000000    3.000000  ...          NaN   \n",
              "1           NaN  0.199360    0.289965    0.235898  ...          NaN   \n",
              "2           NaN  0.125333    0.419889    0.009646  ...          NaN   \n",
              "3           NaN  0.251443    0.328626    0.235975  ...          NaN   \n",
              "4           NaN  0.359370    0.083785    0.359887  ...          NaN   \n",
              "..          ...       ...         ...         ...  ...          ...   \n",
              "296         NaN  0.390396    0.013842    0.162659  ...          NaN   \n",
              "297         NaN  0.321511    0.507248    0.072504  ...          NaN   \n",
              "298         NaN  0.405680    0.038786    0.457028  ...          NaN   \n",
              "299         NaN  0.161242    0.032832    0.204800  ...          NaN   \n",
              "300         NaN  0.321082    0.335155    0.205324  ...          NaN   \n",
              "\n",
              "     Unnamed: 26  Unnamed: 27  Unnamed: 28  Unnamed: 29  Unnamed: 30  \\\n",
              "0            NaN          NaN          NaN          NaN          NaN   \n",
              "1            NaN          NaN          NaN          NaN          NaN   \n",
              "2            NaN          NaN          NaN          NaN          NaN   \n",
              "3            NaN          NaN          NaN          NaN          NaN   \n",
              "4            NaN          NaN          NaN          NaN          NaN   \n",
              "..           ...          ...          ...          ...          ...   \n",
              "296          NaN          NaN          NaN          NaN          NaN   \n",
              "297          NaN          NaN          NaN          NaN          NaN   \n",
              "298          NaN          NaN          NaN          NaN          NaN   \n",
              "299          NaN          NaN          NaN          NaN          NaN   \n",
              "300          NaN          NaN          NaN          NaN          NaN   \n",
              "\n",
              "     Unnamed: 31  Unnamed: 32  Unnamed: 33  Unnamed: 34  \n",
              "0            NaN          NaN          NaN          NaN  \n",
              "1            NaN          NaN          NaN          NaN  \n",
              "2            NaN          NaN          NaN          NaN  \n",
              "3            NaN          NaN          NaN          NaN  \n",
              "4            NaN          NaN          NaN          NaN  \n",
              "..           ...          ...          ...          ...  \n",
              "296          NaN          NaN          NaN          NaN  \n",
              "297          NaN          NaN          NaN          NaN  \n",
              "298          NaN          NaN          NaN          NaN  \n",
              "299          NaN          NaN          NaN          NaN  \n",
              "300          NaN          NaN          NaN          NaN  \n",
              "\n",
              "[301 rows x 35 columns]"
            ],
            "text/html": [
              "\n",
              "  <div id=\"df-6eba10fa-e342-4ae1-9f92-38c6d74d54b1\" class=\"colab-df-container\">\n",
              "    <div>\n",
              "<style scoped>\n",
              "    .dataframe tbody tr th:only-of-type {\n",
              "        vertical-align: middle;\n",
              "    }\n",
              "\n",
              "    .dataframe tbody tr th {\n",
              "        vertical-align: top;\n",
              "    }\n",
              "\n",
              "    .dataframe thead th {\n",
              "        text-align: right;\n",
              "    }\n",
              "</style>\n",
              "<table border=\"1\" class=\"dataframe\">\n",
              "  <thead>\n",
              "    <tr style=\"text-align: right;\">\n",
              "      <th></th>\n",
              "      <th>Unnamed: 0</th>\n",
              "      <th>Unnamed: 1</th>\n",
              "      <th>甲分類器</th>\n",
              "      <th>Unnamed: 3</th>\n",
              "      <th>Unnamed: 4</th>\n",
              "      <th>Unnamed: 5</th>\n",
              "      <th>Unnamed: 6</th>\n",
              "      <th>乙分類器</th>\n",
              "      <th>Unnamed: 8</th>\n",
              "      <th>Unnamed: 9</th>\n",
              "      <th>...</th>\n",
              "      <th>Unnamed: 25</th>\n",
              "      <th>Unnamed: 26</th>\n",
              "      <th>Unnamed: 27</th>\n",
              "      <th>Unnamed: 28</th>\n",
              "      <th>Unnamed: 29</th>\n",
              "      <th>Unnamed: 30</th>\n",
              "      <th>Unnamed: 31</th>\n",
              "      <th>Unnamed: 32</th>\n",
              "      <th>Unnamed: 33</th>\n",
              "      <th>Unnamed: 34</th>\n",
              "    </tr>\n",
              "  </thead>\n",
              "  <tbody>\n",
              "    <tr>\n",
              "      <th>0</th>\n",
              "      <td>id</td>\n",
              "      <td>actual</td>\n",
              "      <td>1.000000</td>\n",
              "      <td>2.000000</td>\n",
              "      <td>3.000000</td>\n",
              "      <td>4.000000</td>\n",
              "      <td>NaN</td>\n",
              "      <td>1.000000</td>\n",
              "      <td>2.000000</td>\n",
              "      <td>3.000000</td>\n",
              "      <td>...</td>\n",
              "      <td>NaN</td>\n",
              "      <td>NaN</td>\n",
              "      <td>NaN</td>\n",
              "      <td>NaN</td>\n",
              "      <td>NaN</td>\n",
              "      <td>NaN</td>\n",
              "      <td>NaN</td>\n",
              "      <td>NaN</td>\n",
              "      <td>NaN</td>\n",
              "      <td>NaN</td>\n",
              "    </tr>\n",
              "    <tr>\n",
              "      <th>1</th>\n",
              "      <td>1</td>\n",
              "      <td>4</td>\n",
              "      <td>0.271475</td>\n",
              "      <td>0.375280</td>\n",
              "      <td>0.347025</td>\n",
              "      <td>0.006220</td>\n",
              "      <td>NaN</td>\n",
              "      <td>0.199360</td>\n",
              "      <td>0.289965</td>\n",
              "      <td>0.235898</td>\n",
              "      <td>...</td>\n",
              "      <td>NaN</td>\n",
              "      <td>NaN</td>\n",
              "      <td>NaN</td>\n",
              "      <td>NaN</td>\n",
              "      <td>NaN</td>\n",
              "      <td>NaN</td>\n",
              "      <td>NaN</td>\n",
              "      <td>NaN</td>\n",
              "      <td>NaN</td>\n",
              "      <td>NaN</td>\n",
              "    </tr>\n",
              "    <tr>\n",
              "      <th>2</th>\n",
              "      <td>2</td>\n",
              "      <td>3</td>\n",
              "      <td>0.106291</td>\n",
              "      <td>0.326531</td>\n",
              "      <td>0.442735</td>\n",
              "      <td>0.124443</td>\n",
              "      <td>NaN</td>\n",
              "      <td>0.125333</td>\n",
              "      <td>0.419889</td>\n",
              "      <td>0.009646</td>\n",
              "      <td>...</td>\n",
              "      <td>NaN</td>\n",
              "      <td>NaN</td>\n",
              "      <td>NaN</td>\n",
              "      <td>NaN</td>\n",
              "      <td>NaN</td>\n",
              "      <td>NaN</td>\n",
              "      <td>NaN</td>\n",
              "      <td>NaN</td>\n",
              "      <td>NaN</td>\n",
              "      <td>NaN</td>\n",
              "    </tr>\n",
              "    <tr>\n",
              "      <th>3</th>\n",
              "      <td>3</td>\n",
              "      <td>3</td>\n",
              "      <td>0.252291</td>\n",
              "      <td>0.232986</td>\n",
              "      <td>0.292070</td>\n",
              "      <td>0.222653</td>\n",
              "      <td>NaN</td>\n",
              "      <td>0.251443</td>\n",
              "      <td>0.328626</td>\n",
              "      <td>0.235975</td>\n",
              "      <td>...</td>\n",
              "      <td>NaN</td>\n",
              "      <td>NaN</td>\n",
              "      <td>NaN</td>\n",
              "      <td>NaN</td>\n",
              "      <td>NaN</td>\n",
              "      <td>NaN</td>\n",
              "      <td>NaN</td>\n",
              "      <td>NaN</td>\n",
              "      <td>NaN</td>\n",
              "      <td>NaN</td>\n",
              "    </tr>\n",
              "    <tr>\n",
              "      <th>4</th>\n",
              "      <td>4</td>\n",
              "      <td>4</td>\n",
              "      <td>0.419201</td>\n",
              "      <td>0.286819</td>\n",
              "      <td>0.162992</td>\n",
              "      <td>0.130988</td>\n",
              "      <td>NaN</td>\n",
              "      <td>0.359370</td>\n",
              "      <td>0.083785</td>\n",
              "      <td>0.359887</td>\n",
              "      <td>...</td>\n",
              "      <td>NaN</td>\n",
              "      <td>NaN</td>\n",
              "      <td>NaN</td>\n",
              "      <td>NaN</td>\n",
              "      <td>NaN</td>\n",
              "      <td>NaN</td>\n",
              "      <td>NaN</td>\n",
              "      <td>NaN</td>\n",
              "      <td>NaN</td>\n",
              "      <td>NaN</td>\n",
              "    </tr>\n",
              "    <tr>\n",
              "      <th>...</th>\n",
              "      <td>...</td>\n",
              "      <td>...</td>\n",
              "      <td>...</td>\n",
              "      <td>...</td>\n",
              "      <td>...</td>\n",
              "      <td>...</td>\n",
              "      <td>...</td>\n",
              "      <td>...</td>\n",
              "      <td>...</td>\n",
              "      <td>...</td>\n",
              "      <td>...</td>\n",
              "      <td>...</td>\n",
              "      <td>...</td>\n",
              "      <td>...</td>\n",
              "      <td>...</td>\n",
              "      <td>...</td>\n",
              "      <td>...</td>\n",
              "      <td>...</td>\n",
              "      <td>...</td>\n",
              "      <td>...</td>\n",
              "      <td>...</td>\n",
              "    </tr>\n",
              "    <tr>\n",
              "      <th>296</th>\n",
              "      <td>296</td>\n",
              "      <td>3</td>\n",
              "      <td>0.197004</td>\n",
              "      <td>0.230437</td>\n",
              "      <td>0.390207</td>\n",
              "      <td>0.182352</td>\n",
              "      <td>NaN</td>\n",
              "      <td>0.390396</td>\n",
              "      <td>0.013842</td>\n",
              "      <td>0.162659</td>\n",
              "      <td>...</td>\n",
              "      <td>NaN</td>\n",
              "      <td>NaN</td>\n",
              "      <td>NaN</td>\n",
              "      <td>NaN</td>\n",
              "      <td>NaN</td>\n",
              "      <td>NaN</td>\n",
              "      <td>NaN</td>\n",
              "      <td>NaN</td>\n",
              "      <td>NaN</td>\n",
              "      <td>NaN</td>\n",
              "    </tr>\n",
              "    <tr>\n",
              "      <th>297</th>\n",
              "      <td>297</td>\n",
              "      <td>4</td>\n",
              "      <td>0.142427</td>\n",
              "      <td>0.232935</td>\n",
              "      <td>0.364361</td>\n",
              "      <td>0.260277</td>\n",
              "      <td>NaN</td>\n",
              "      <td>0.321511</td>\n",
              "      <td>0.507248</td>\n",
              "      <td>0.072504</td>\n",
              "      <td>...</td>\n",
              "      <td>NaN</td>\n",
              "      <td>NaN</td>\n",
              "      <td>NaN</td>\n",
              "      <td>NaN</td>\n",
              "      <td>NaN</td>\n",
              "      <td>NaN</td>\n",
              "      <td>NaN</td>\n",
              "      <td>NaN</td>\n",
              "      <td>NaN</td>\n",
              "      <td>NaN</td>\n",
              "    </tr>\n",
              "    <tr>\n",
              "      <th>298</th>\n",
              "      <td>298</td>\n",
              "      <td>1</td>\n",
              "      <td>0.448272</td>\n",
              "      <td>0.148920</td>\n",
              "      <td>0.274030</td>\n",
              "      <td>0.128778</td>\n",
              "      <td>NaN</td>\n",
              "      <td>0.405680</td>\n",
              "      <td>0.038786</td>\n",
              "      <td>0.457028</td>\n",
              "      <td>...</td>\n",
              "      <td>NaN</td>\n",
              "      <td>NaN</td>\n",
              "      <td>NaN</td>\n",
              "      <td>NaN</td>\n",
              "      <td>NaN</td>\n",
              "      <td>NaN</td>\n",
              "      <td>NaN</td>\n",
              "      <td>NaN</td>\n",
              "      <td>NaN</td>\n",
              "      <td>NaN</td>\n",
              "    </tr>\n",
              "    <tr>\n",
              "      <th>299</th>\n",
              "      <td>299</td>\n",
              "      <td>4</td>\n",
              "      <td>0.163382</td>\n",
              "      <td>0.113212</td>\n",
              "      <td>0.352721</td>\n",
              "      <td>0.370685</td>\n",
              "      <td>NaN</td>\n",
              "      <td>0.161242</td>\n",
              "      <td>0.032832</td>\n",
              "      <td>0.204800</td>\n",
              "      <td>...</td>\n",
              "      <td>NaN</td>\n",
              "      <td>NaN</td>\n",
              "      <td>NaN</td>\n",
              "      <td>NaN</td>\n",
              "      <td>NaN</td>\n",
              "      <td>NaN</td>\n",
              "      <td>NaN</td>\n",
              "      <td>NaN</td>\n",
              "      <td>NaN</td>\n",
              "      <td>NaN</td>\n",
              "    </tr>\n",
              "    <tr>\n",
              "      <th>300</th>\n",
              "      <td>300</td>\n",
              "      <td>2</td>\n",
              "      <td>0.483087</td>\n",
              "      <td>0.033635</td>\n",
              "      <td>0.108161</td>\n",
              "      <td>0.375118</td>\n",
              "      <td>NaN</td>\n",
              "      <td>0.321082</td>\n",
              "      <td>0.335155</td>\n",
              "      <td>0.205324</td>\n",
              "      <td>...</td>\n",
              "      <td>NaN</td>\n",
              "      <td>NaN</td>\n",
              "      <td>NaN</td>\n",
              "      <td>NaN</td>\n",
              "      <td>NaN</td>\n",
              "      <td>NaN</td>\n",
              "      <td>NaN</td>\n",
              "      <td>NaN</td>\n",
              "      <td>NaN</td>\n",
              "      <td>NaN</td>\n",
              "    </tr>\n",
              "  </tbody>\n",
              "</table>\n",
              "<p>301 rows × 35 columns</p>\n",
              "</div>\n",
              "    <div class=\"colab-df-buttons\">\n",
              "\n",
              "  <div class=\"colab-df-container\">\n",
              "    <button class=\"colab-df-convert\" onclick=\"convertToInteractive('df-6eba10fa-e342-4ae1-9f92-38c6d74d54b1')\"\n",
              "            title=\"Convert this dataframe to an interactive table.\"\n",
              "            style=\"display:none;\">\n",
              "\n",
              "  <svg xmlns=\"http://www.w3.org/2000/svg\" height=\"24px\" viewBox=\"0 -960 960 960\">\n",
              "    <path d=\"M120-120v-720h720v720H120Zm60-500h600v-160H180v160Zm220 220h160v-160H400v160Zm0 220h160v-160H400v160ZM180-400h160v-160H180v160Zm440 0h160v-160H620v160ZM180-180h160v-160H180v160Zm440 0h160v-160H620v160Z\"/>\n",
              "  </svg>\n",
              "    </button>\n",
              "\n",
              "  <style>\n",
              "    .colab-df-container {\n",
              "      display:flex;\n",
              "      gap: 12px;\n",
              "    }\n",
              "\n",
              "    .colab-df-convert {\n",
              "      background-color: #E8F0FE;\n",
              "      border: none;\n",
              "      border-radius: 50%;\n",
              "      cursor: pointer;\n",
              "      display: none;\n",
              "      fill: #1967D2;\n",
              "      height: 32px;\n",
              "      padding: 0 0 0 0;\n",
              "      width: 32px;\n",
              "    }\n",
              "\n",
              "    .colab-df-convert:hover {\n",
              "      background-color: #E2EBFA;\n",
              "      box-shadow: 0px 1px 2px rgba(60, 64, 67, 0.3), 0px 1px 3px 1px rgba(60, 64, 67, 0.15);\n",
              "      fill: #174EA6;\n",
              "    }\n",
              "\n",
              "    .colab-df-buttons div {\n",
              "      margin-bottom: 4px;\n",
              "    }\n",
              "\n",
              "    [theme=dark] .colab-df-convert {\n",
              "      background-color: #3B4455;\n",
              "      fill: #D2E3FC;\n",
              "    }\n",
              "\n",
              "    [theme=dark] .colab-df-convert:hover {\n",
              "      background-color: #434B5C;\n",
              "      box-shadow: 0px 1px 3px 1px rgba(0, 0, 0, 0.15);\n",
              "      filter: drop-shadow(0px 1px 2px rgba(0, 0, 0, 0.3));\n",
              "      fill: #FFFFFF;\n",
              "    }\n",
              "  </style>\n",
              "\n",
              "    <script>\n",
              "      const buttonEl =\n",
              "        document.querySelector('#df-6eba10fa-e342-4ae1-9f92-38c6d74d54b1 button.colab-df-convert');\n",
              "      buttonEl.style.display =\n",
              "        google.colab.kernel.accessAllowed ? 'block' : 'none';\n",
              "\n",
              "      async function convertToInteractive(key) {\n",
              "        const element = document.querySelector('#df-6eba10fa-e342-4ae1-9f92-38c6d74d54b1');\n",
              "        const dataTable =\n",
              "          await google.colab.kernel.invokeFunction('convertToInteractive',\n",
              "                                                    [key], {});\n",
              "        if (!dataTable) return;\n",
              "\n",
              "        const docLinkHtml = 'Like what you see? Visit the ' +\n",
              "          '<a target=\"_blank\" href=https://colab.research.google.com/notebooks/data_table.ipynb>data table notebook</a>'\n",
              "          + ' to learn more about interactive tables.';\n",
              "        element.innerHTML = '';\n",
              "        dataTable['output_type'] = 'display_data';\n",
              "        await google.colab.output.renderOutput(dataTable, element);\n",
              "        const docLink = document.createElement('div');\n",
              "        docLink.innerHTML = docLinkHtml;\n",
              "        element.appendChild(docLink);\n",
              "      }\n",
              "    </script>\n",
              "  </div>\n",
              "\n",
              "\n",
              "<div id=\"df-762b4fa7-cdaf-4221-b437-44e689766ef1\">\n",
              "  <button class=\"colab-df-quickchart\" onclick=\"quickchart('df-762b4fa7-cdaf-4221-b437-44e689766ef1')\"\n",
              "            title=\"Suggest charts\"\n",
              "            style=\"display:none;\">\n",
              "\n",
              "<svg xmlns=\"http://www.w3.org/2000/svg\" height=\"24px\"viewBox=\"0 0 24 24\"\n",
              "     width=\"24px\">\n",
              "    <g>\n",
              "        <path d=\"M19 3H5c-1.1 0-2 .9-2 2v14c0 1.1.9 2 2 2h14c1.1 0 2-.9 2-2V5c0-1.1-.9-2-2-2zM9 17H7v-7h2v7zm4 0h-2V7h2v10zm4 0h-2v-4h2v4z\"/>\n",
              "    </g>\n",
              "</svg>\n",
              "  </button>\n",
              "\n",
              "<style>\n",
              "  .colab-df-quickchart {\n",
              "      --bg-color: #E8F0FE;\n",
              "      --fill-color: #1967D2;\n",
              "      --hover-bg-color: #E2EBFA;\n",
              "      --hover-fill-color: #174EA6;\n",
              "      --disabled-fill-color: #AAA;\n",
              "      --disabled-bg-color: #DDD;\n",
              "  }\n",
              "\n",
              "  [theme=dark] .colab-df-quickchart {\n",
              "      --bg-color: #3B4455;\n",
              "      --fill-color: #D2E3FC;\n",
              "      --hover-bg-color: #434B5C;\n",
              "      --hover-fill-color: #FFFFFF;\n",
              "      --disabled-bg-color: #3B4455;\n",
              "      --disabled-fill-color: #666;\n",
              "  }\n",
              "\n",
              "  .colab-df-quickchart {\n",
              "    background-color: var(--bg-color);\n",
              "    border: none;\n",
              "    border-radius: 50%;\n",
              "    cursor: pointer;\n",
              "    display: none;\n",
              "    fill: var(--fill-color);\n",
              "    height: 32px;\n",
              "    padding: 0;\n",
              "    width: 32px;\n",
              "  }\n",
              "\n",
              "  .colab-df-quickchart:hover {\n",
              "    background-color: var(--hover-bg-color);\n",
              "    box-shadow: 0 1px 2px rgba(60, 64, 67, 0.3), 0 1px 3px 1px rgba(60, 64, 67, 0.15);\n",
              "    fill: var(--button-hover-fill-color);\n",
              "  }\n",
              "\n",
              "  .colab-df-quickchart-complete:disabled,\n",
              "  .colab-df-quickchart-complete:disabled:hover {\n",
              "    background-color: var(--disabled-bg-color);\n",
              "    fill: var(--disabled-fill-color);\n",
              "    box-shadow: none;\n",
              "  }\n",
              "\n",
              "  .colab-df-spinner {\n",
              "    border: 2px solid var(--fill-color);\n",
              "    border-color: transparent;\n",
              "    border-bottom-color: var(--fill-color);\n",
              "    animation:\n",
              "      spin 1s steps(1) infinite;\n",
              "  }\n",
              "\n",
              "  @keyframes spin {\n",
              "    0% {\n",
              "      border-color: transparent;\n",
              "      border-bottom-color: var(--fill-color);\n",
              "      border-left-color: var(--fill-color);\n",
              "    }\n",
              "    20% {\n",
              "      border-color: transparent;\n",
              "      border-left-color: var(--fill-color);\n",
              "      border-top-color: var(--fill-color);\n",
              "    }\n",
              "    30% {\n",
              "      border-color: transparent;\n",
              "      border-left-color: var(--fill-color);\n",
              "      border-top-color: var(--fill-color);\n",
              "      border-right-color: var(--fill-color);\n",
              "    }\n",
              "    40% {\n",
              "      border-color: transparent;\n",
              "      border-right-color: var(--fill-color);\n",
              "      border-top-color: var(--fill-color);\n",
              "    }\n",
              "    60% {\n",
              "      border-color: transparent;\n",
              "      border-right-color: var(--fill-color);\n",
              "    }\n",
              "    80% {\n",
              "      border-color: transparent;\n",
              "      border-right-color: var(--fill-color);\n",
              "      border-bottom-color: var(--fill-color);\n",
              "    }\n",
              "    90% {\n",
              "      border-color: transparent;\n",
              "      border-bottom-color: var(--fill-color);\n",
              "    }\n",
              "  }\n",
              "</style>\n",
              "\n",
              "  <script>\n",
              "    async function quickchart(key) {\n",
              "      const quickchartButtonEl =\n",
              "        document.querySelector('#' + key + ' button');\n",
              "      quickchartButtonEl.disabled = true;  // To prevent multiple clicks.\n",
              "      quickchartButtonEl.classList.add('colab-df-spinner');\n",
              "      try {\n",
              "        const charts = await google.colab.kernel.invokeFunction(\n",
              "            'suggestCharts', [key], {});\n",
              "      } catch (error) {\n",
              "        console.error('Error during call to suggestCharts:', error);\n",
              "      }\n",
              "      quickchartButtonEl.classList.remove('colab-df-spinner');\n",
              "      quickchartButtonEl.classList.add('colab-df-quickchart-complete');\n",
              "    }\n",
              "    (() => {\n",
              "      let quickchartButtonEl =\n",
              "        document.querySelector('#df-762b4fa7-cdaf-4221-b437-44e689766ef1 button');\n",
              "      quickchartButtonEl.style.display =\n",
              "        google.colab.kernel.accessAllowed ? 'block' : 'none';\n",
              "    })();\n",
              "  </script>\n",
              "</div>\n",
              "    </div>\n",
              "  </div>\n"
            ]
          },
          "metadata": {},
          "execution_count": 5
        }
      ]
    },
    {
      "cell_type": "markdown",
      "source": [
        "## Preprocessing"
      ],
      "metadata": {
        "id": "e039P8-wLr2N"
      }
    },
    {
      "cell_type": "code",
      "source": [
        "X_1 = df.iloc[1:, 2:6].values\n",
        "X_2 = df.iloc[1:, 7:11].values\n",
        "\n",
        "# parse y to numbers\n",
        "y = df.iloc[1:, 1].values\n",
        "y = y.astype(int)\n",
        "\n",
        "y_class = y\n",
        "y = y.reshape(-1,1)"
      ],
      "metadata": {
        "id": "weKIvf21LsiA"
      },
      "execution_count": null,
      "outputs": []
    },
    {
      "cell_type": "code",
      "source": [
        "X_1[0], X_2[0], y[0], y_class[0]"
      ],
      "metadata": {
        "colab": {
          "base_uri": "https://localhost:8080/"
        },
        "id": "7lcc-nngMYbM",
        "outputId": "013eb763-495b-4e0e-b7fd-f045af008713"
      },
      "execution_count": null,
      "outputs": [
        {
          "output_type": "execute_result",
          "data": {
            "text/plain": [
              "(array([0.27147486, 0.37528009, 0.34702476, 0.0062203 ]),\n",
              " array([0.19935983, 0.28996544, 0.23589772, 0.27477702]),\n",
              " array([4]),\n",
              " 4)"
            ]
          },
          "metadata": {},
          "execution_count": 66
        }
      ]
    },
    {
      "cell_type": "code",
      "source": [
        "# parse y to one-hot-encoding\n",
        "encoder = OneHotEncoder()\n",
        "y = encoder.fit_transform(y).toarray()"
      ],
      "metadata": {
        "id": "7WOGY0joMWZ8"
      },
      "execution_count": null,
      "outputs": []
    },
    {
      "cell_type": "code",
      "source": [
        "y[0]"
      ],
      "metadata": {
        "colab": {
          "base_uri": "https://localhost:8080/"
        },
        "id": "DY4y0LRTNDg-",
        "outputId": "bfb91420-8506-4080-faf6-0795f26fe011"
      },
      "execution_count": null,
      "outputs": [
        {
          "output_type": "execute_result",
          "data": {
            "text/plain": [
              "array([0., 0., 0., 1.])"
            ]
          },
          "metadata": {},
          "execution_count": 68
        }
      ]
    },
    {
      "cell_type": "markdown",
      "source": [
        "# Quadratic Loss Function\n",
        "For all instances:\n",
        "N instances, C classes\n",
        "$$\n",
        "  L = E[\\sum_{j=1}^{C}{(p_{j}-p_{j}^{*})^2}] = \\frac{1}{N}\\sum_{i=1}^{N}{\\sum_{j=1}^{C}{(p_{ij}-p_{ij}^{*})^2}}\n",
        "$$"
      ],
      "metadata": {
        "id": "5eVqNLn9ONBM"
      }
    },
    {
      "cell_type": "code",
      "source": [
        "def quadratic_loss(pred, gt):\n",
        "  loss = 0\n",
        "  N = len(pred)\n",
        "\n",
        "  for p, p_star in zip(pred, gt):\n",
        "    se = np.sum((p - p_star) ** 2)\n",
        "    loss += se\n",
        "\n",
        "  return loss/N"
      ],
      "metadata": {
        "id": "8KG-6-88SlQ2"
      },
      "execution_count": null,
      "outputs": []
    },
    {
      "cell_type": "code",
      "source": [
        "# 甲分類器的Quadratic loss\n",
        "quadratic_loss_1 = quadratic_loss(X_1, y)\n",
        "\n",
        "# 乙分類器的Quadratic loss\n",
        "quadratic_loss_2 = quadratic_loss(X_2, y)\n",
        "\n",
        "print(f\"\"\"\n",
        "Q1:\n",
        "  甲分類器的Quadratic loss: {quadratic_loss_1} \\n\n",
        "  乙分類器的Quadratic loss: {quadratic_loss_2} \\n\n",
        "\n",
        "  因為甲分類器的loss比較低，所以\n",
        "  甲分類器的效能比較好\n",
        "\"\"\")"
      ],
      "metadata": {
        "colab": {
          "base_uri": "https://localhost:8080/"
        },
        "id": "oT--tB9uNn1p",
        "outputId": "f195bcaa-4114-43d6-940f-66c08054c0d9"
      },
      "execution_count": null,
      "outputs": [
        {
          "output_type": "stream",
          "name": "stdout",
          "text": [
            "\n",
            "Q1:\n",
            "  甲分類器的Quadratic loss: 0.8046390383744482 \n",
            "\n",
            "  乙分類器的Quadratic loss: 0.8412263175078561 \n",
            "\n",
            "\n",
            "  因為甲分類器的loss比較低，所以\n",
            "  甲分類器的效能比較好\n",
            "\n"
          ]
        }
      ]
    },
    {
      "cell_type": "markdown",
      "source": [
        "# Information Loss\n",
        "(Cross-Entropy)\n",
        "For all instances: N instances, C classes\n",
        "$$\n",
        "  L = -\\frac{1}{N}\\sum_{i=1}^{N}{\\sum_{j=1}^{C}{p_{ij}^{*}\\log_2{p_{ij}}}}\n",
        "$$"
      ],
      "metadata": {
        "id": "7joEYQ1ocwnM"
      }
    },
    {
      "cell_type": "code",
      "source": [
        "def information_loss(pred, gt):\n",
        "  loss = 0\n",
        "  N = len(pred)\n",
        "\n",
        "  for p, p_star in zip(pred, gt):\n",
        "    entropy = -np.sum(p_star * np.log2(p))\n",
        "    loss += entropy\n",
        "  return loss/N"
      ],
      "metadata": {
        "id": "JBcbiI2Oax0C"
      },
      "execution_count": null,
      "outputs": []
    },
    {
      "cell_type": "code",
      "source": [
        "# 甲分類器的Information loss\n",
        "information_loss_1 = information_loss(X_1, y)\n",
        "\n",
        "# 乙分類器的Information loss\n",
        "information_loss_2 = information_loss(X_2, y)\n",
        "\n",
        "print(f\"\"\"\n",
        "Q2:\n",
        "  甲分類器的Information loss: {information_loss_1} \\n\n",
        "  乙分類器的Information loss: {information_loss_2} \\n\n",
        "\n",
        "  因為甲分類器的loss比較低，所以\n",
        "  甲分類器的效能比較好\n",
        "\"\"\")"
      ],
      "metadata": {
        "colab": {
          "base_uri": "https://localhost:8080/"
        },
        "id": "Z9tEHdqjc2-x",
        "outputId": "019561d5-ef83-47c3-c9df-e1e714a12a2c"
      },
      "execution_count": null,
      "outputs": [
        {
          "output_type": "stream",
          "name": "stdout",
          "text": [
            "\n",
            "Q2:\n",
            "  甲分類器的Information loss: 2.3227466647940984 \n",
            "\n",
            "  乙分類器的Information loss: 2.408281259309044 \n",
            "\n",
            "\n",
            "  因為甲分類器的loss比較低，所以\n",
            "  甲分類器的效能比較好\n",
            "\n"
          ]
        }
      ]
    },
    {
      "cell_type": "markdown",
      "source": [
        "# Comparison"
      ],
      "metadata": {
        "id": "BnyhuTEnf-5H"
      }
    },
    {
      "cell_type": "code",
      "source": [
        "print(\"\"\"\n",
        "Q3:\n",
        "  兩個指標的排序結果一樣，都是甲分類器比乙分類器好\n",
        "\"\"\")"
      ],
      "metadata": {
        "colab": {
          "base_uri": "https://localhost:8080/"
        },
        "id": "nTRXsOV2fS80",
        "outputId": "94391e84-4607-4f53-a3e6-931e786f2d51"
      },
      "execution_count": null,
      "outputs": [
        {
          "output_type": "stream",
          "name": "stdout",
          "text": [
            "\n",
            "Q3:\n",
            "  兩個指標的排序結果一樣，都是甲分類器比乙分類器好\n",
            "\n"
          ]
        }
      ]
    },
    {
      "cell_type": "code",
      "source": [
        "print(\"\"\"\n",
        "Q4: 一般而言，採用 quadratic loss 評比分類器的優劣所得的結論，是否保證與採用 informational loss 評比分類器的優劣所得的結論相同，說明原因。\n",
        "\n",
        "Ans:\n",
        "  一般而言，使用二次損失（Quadratic Loss）和信息損失（Informational Loss，Cross-Entrpy）來評估分類器的優劣可能不會得到相同的結論。\n",
        "  這是因為這兩種損失函數在數學性質和對錯誤的懲罰方式上有本質的不同：\n",
        "\n",
        "  1. 對於錯誤的懲罰方式不同：\n",
        "  二次損失：對於接近正確答案的錯誤預測和遠離正確答案的錯誤預測，二次損失給予相對平緩的懲罰。換句話說，它不嚴厲地懲罰那些「差不多正確」的預測。\n",
        "  信息損失（交叉熵損失）：這種損失函數對於那些與實際標籤差異很大的預測給予了更嚴厲的懲罰。特別是當預測的概率遠離真實標籤時，損失會急劇增加。\n",
        "\n",
        "  2. 應用範圍和優化特性：\n",
        "  二次損失：更常用於迴歸問題而不是分類問題。在分類問題中，使用二次損失可能不會給出最佳結果，因為它不是專門為處理概率輸出設計的。\n",
        "  信息損失（交叉熵損失）：特別適用於分類問題，因為它直接處理概率分佈，並且在分類錯誤的情況下提供了更好的梯度反饋。\n",
        "\n",
        "  3. 數學性質：\n",
        "  二次損失 在某些情況下可能不會提供充足的梯度進行有效的優化，特別是當預測值和真實值差異很大時。 (e.g. pred: 0, ans: 1)\n",
        "  信息損失 由於其對數組件的特性，在學習過程中提供了更穩定和有效的梯度更新。\n",
        "  因此，這兩種損失函數在評估分類器時可能會導致不同的結論。在實際應用中，選擇哪種損失函數取決於具體的問題和所需的性能特性。\n",
        "  通常，對於分類問題，信息損失（交叉熵損失）是一個更好的選擇，因為它直接對應於分類的概率性質。\n",
        "\"\"\")"
      ],
      "metadata": {
        "colab": {
          "base_uri": "https://localhost:8080/"
        },
        "id": "kanC1tugf4h1",
        "outputId": "0b5454ac-488d-42b0-86fa-1f8483f35021"
      },
      "execution_count": null,
      "outputs": [
        {
          "output_type": "stream",
          "name": "stdout",
          "text": [
            "\n",
            "Q4: 一般而言，採用 quadratic loss 評比分類器的優劣所得的結論，是否保證與採用 informational loss 評比分類器的優劣所得的結論相同，說明原因。 \n",
            "\n",
            "Ans:\n",
            "  一般而言，使用二次損失（Quadratic Loss）和信息損失（Informational Loss，Cross-Entrpy）來評估分類器的優劣可能不會得到相同的結論。\n",
            "  這是因為這兩種損失函數在數學性質和對錯誤的懲罰方式上有本質的不同：\n",
            "\n",
            "  1. 對於錯誤的懲罰方式不同：\n",
            "  二次損失：對於接近正確答案的錯誤預測和遠離正確答案的錯誤預測，二次損失給予相對平緩的懲罰。換句話說，它不嚴厲地懲罰那些「差不多正確」的預測。\n",
            "  信息損失（交叉熵損失）：這種損失函數對於那些與實際標籤差異很大的預測給予了更嚴厲的懲罰。特別是當預測的概率遠離真實標籤時，損失會急劇增加。\n",
            "\n",
            "  2. 應用範圍和優化特性：\n",
            "  二次損失：更常用於迴歸問題而不是分類問題。在分類問題中，使用二次損失可能不會給出最佳結果，因為它不是專門為處理概率輸出設計的。\n",
            "  信息損失（交叉熵損失）：特別適用於分類問題，因為它直接處理概率分佈，並且在分類錯誤的情況下提供了更好的梯度反饋。\n",
            "\n",
            "  3. 數學性質：\n",
            "  二次損失 在某些情況下可能不會提供充足的梯度進行有效的優化，特別是當預測值和真實值差異很大時。 (e.g. pred: 0, ans: 1)\n",
            "  信息損失 由於其對數組件的特性，在學習過程中提供了更穩定和有效的梯度更新。\n",
            "  因此，這兩種損失函數在評估分類器時可能會導致不同的結論。在實際應用中，選擇哪種損失函數取決於具體的問題和所需的性能特性。\n",
            "  通常，對於分類問題，信息損失（交叉熵損失）是一個更好的選擇，因為它直接對應於分類的概率性質。\n",
            "\n"
          ]
        }
      ]
    },
    {
      "cell_type": "markdown",
      "source": [
        "# Confusion Matrix"
      ],
      "metadata": {
        "id": "KkxWE4wLg-Ma"
      }
    },
    {
      "cell_type": "code",
      "source": [
        "# Get the actual class output by choosing the biggest probability\n",
        "# add one to get the actual class\n",
        "pred_1_class = np.argmax(X_1, axis=1) + 1\n",
        "pred_2_class = np.argmax(X_2, axis=1) + 1"
      ],
      "metadata": {
        "id": "8IB1bN5jg_gB"
      },
      "execution_count": null,
      "outputs": []
    },
    {
      "cell_type": "code",
      "source": [
        "pred_1_class, y_class"
      ],
      "metadata": {
        "colab": {
          "base_uri": "https://localhost:8080/"
        },
        "id": "VwrooCkVhv8v",
        "outputId": "2b6befe8-eee9-4ca3-9bf1-5fa21ce2c987"
      },
      "execution_count": null,
      "outputs": [
        {
          "output_type": "execute_result",
          "data": {
            "text/plain": [
              "(array([2, 3, 3, 1, 1, 1, 4, 2, 3, 4, 2, 4, 3, 2, 4, 3, 3, 2, 1, 1, 3, 3,\n",
              "        3, 2, 4, 3, 4, 1, 2, 2, 2, 2, 4, 4, 2, 3, 4, 1, 4, 1, 3, 2, 3, 3,\n",
              "        4, 4, 3, 2, 2, 2, 2, 3, 1, 4, 3, 4, 2, 4, 2, 2, 2, 4, 4, 4, 1, 3,\n",
              "        2, 1, 3, 4, 4, 2, 2, 1, 1, 3, 4, 3, 2, 1, 1, 2, 3, 1, 2, 1, 2, 2,\n",
              "        1, 1, 3, 1, 4, 2, 3, 3, 2, 3, 1, 3, 2, 3, 4, 4, 1, 2, 3, 3, 1, 4,\n",
              "        1, 1, 2, 2, 4, 2, 3, 2, 1, 3, 3, 2, 1, 3, 4, 4, 2, 2, 4, 4, 2, 2,\n",
              "        1, 3, 1, 1, 1, 4, 3, 4, 1, 2, 1, 4, 2, 4, 3, 1, 3, 4, 4, 3, 2, 3,\n",
              "        4, 4, 3, 3, 2, 3, 4, 1, 2, 3, 4, 3, 1, 1, 2, 3, 1, 2, 2, 1, 1, 1,\n",
              "        2, 3, 1, 2, 1, 4, 1, 1, 1, 4, 2, 4, 3, 4, 4, 2, 2, 3, 1, 2, 4, 4,\n",
              "        3, 1, 2, 2, 3, 3, 1, 4, 2, 3, 3, 4, 2, 4, 2, 3, 1, 1, 4, 1, 4, 2,\n",
              "        4, 2, 1, 3, 4, 3, 3, 4, 3, 2, 2, 2, 3, 2, 1, 3, 4, 4, 4, 3, 2, 2,\n",
              "        1, 4, 4, 2, 2, 1, 4, 3, 2, 3, 3, 3, 3, 1, 2, 3, 3, 2, 3, 3, 2, 3,\n",
              "        2, 1, 4, 3, 4, 3, 4, 1, 2, 3, 1, 2, 2, 3, 3, 1, 4, 2, 1, 4, 2, 2,\n",
              "        2, 1, 4, 4, 2, 2, 1, 2, 4, 3, 3, 1, 4, 1]),\n",
              " array([4, 3, 3, 4, 1, 2, 4, 4, 2, 2, 4, 2, 2, 4, 3, 1, 2, 1, 2, 1, 4, 4,\n",
              "        1, 2, 4, 3, 2, 4, 4, 2, 1, 4, 2, 1, 1, 4, 1, 2, 4, 1, 2, 2, 4, 3,\n",
              "        2, 1, 2, 2, 2, 2, 1, 4, 2, 2, 4, 4, 2, 1, 2, 4, 3, 2, 3, 3, 4, 2,\n",
              "        2, 2, 4, 2, 1, 1, 4, 1, 1, 4, 2, 3, 4, 2, 4, 2, 1, 2, 1, 2, 4, 3,\n",
              "        2, 3, 4, 2, 1, 4, 2, 2, 4, 4, 4, 2, 1, 4, 2, 2, 2, 2, 2, 4, 1, 1,\n",
              "        4, 4, 4, 2, 1, 1, 2, 1, 1, 2, 4, 4, 2, 2, 2, 2, 1, 2, 4, 2, 4, 2,\n",
              "        2, 2, 3, 2, 1, 4, 4, 4, 4, 4, 4, 1, 2, 4, 4, 4, 1, 4, 1, 3, 4, 3,\n",
              "        4, 3, 1, 1, 2, 1, 4, 1, 4, 3, 1, 2, 1, 2, 2, 4, 2, 2, 1, 4, 4, 4,\n",
              "        2, 4, 4, 3, 1, 4, 2, 4, 2, 4, 2, 4, 2, 4, 2, 4, 1, 2, 1, 1, 2, 4,\n",
              "        4, 4, 2, 2, 2, 4, 4, 4, 1, 2, 3, 4, 2, 1, 4, 3, 2, 4, 4, 1, 3, 2,\n",
              "        4, 2, 1, 2, 2, 2, 2, 2, 1, 4, 1, 2, 4, 4, 2, 4, 4, 3, 3, 1, 3, 4,\n",
              "        1, 4, 2, 4, 2, 4, 2, 1, 1, 2, 4, 2, 2, 1, 4, 1, 2, 1, 2, 4, 1, 3,\n",
              "        4, 2, 2, 2, 2, 1, 2, 1, 4, 2, 1, 1, 2, 2, 2, 1, 2, 1, 2, 4, 2, 2,\n",
              "        2, 4, 1, 1, 3, 2, 3, 4, 4, 3, 4, 1, 4, 2]))"
            ]
          },
          "metadata": {},
          "execution_count": 73
        }
      ]
    },
    {
      "cell_type": "code",
      "source": [
        "# 甲的Confusion Matrix Q5\n",
        "conf_matrix_1 = confusion_matrix(pred_1_class, y_class)\n",
        "\n",
        "sns.heatmap(conf_matrix_1, annot=True, fmt='g')\n",
        "plt.xlabel('Predicted')\n",
        "plt.ylabel('True')\n",
        "plt.show()"
      ],
      "metadata": {
        "colab": {
          "base_uri": "https://localhost:8080/",
          "height": 449
        },
        "id": "7AOnqZV_hyJH",
        "outputId": "ae20bdf7-7a95-4c35-9d49-403265ea460f"
      },
      "execution_count": null,
      "outputs": [
        {
          "output_type": "display_data",
          "data": {
            "text/plain": [
              "<Figure size 640x480 with 2 Axes>"
            ],
            "image/png": "[encoded data removed]"
          },
          "metadata": {}
        }
      ]
    },
    {
      "cell_type": "code",
      "source": [
        "# 乙的Confusion Matrix Q6\n",
        "conf_matrix_2 = confusion_matrix(pred_2_class, y_class)\n",
        "\n",
        "sns.heatmap(conf_matrix_2, annot=True, fmt='g')\n",
        "plt.xlabel('Predicted')\n",
        "plt.ylabel('True')\n",
        "plt.show()"
      ],
      "metadata": {
        "colab": {
          "base_uri": "https://localhost:8080/",
          "height": 455
        },
        "id": "uCQX-z9kiGoQ",
        "outputId": "c65e293f-03a9-46b6-f661-18579be0471e"
      },
      "execution_count": null,
      "outputs": [
        {
          "output_type": "display_data",
          "data": {
            "text/plain": [
              "<Figure size 640x480 with 2 Axes>"
            ],
            "image/png": "[encoded data removed]"
          },
          "metadata": {}
        }
      ]
    },
    {
      "cell_type": "code",
      "source": [
        "# Q7\n",
        "def macro_f1_score_v1(confusion_matrix):\n",
        "    # 提取對角線元素，即每個類別的真陽性（True Positives）\n",
        "    tp = np.diag(confusion_matrix)\n",
        "\n",
        "    # 計算每個類別的假陽性（False Positives）和假陰性（False Negatives）\n",
        "    fp = np.sum(confusion_matrix, axis=0) - tp\n",
        "    fn = np.sum(confusion_matrix, axis=1) - tp\n",
        "\n",
        "    # 計算每個類別的精確率和召回率\n",
        "    precision = tp / (tp + fp)\n",
        "    recall = tp / (tp + fn)\n",
        "\n",
        "    # 避免除以零\n",
        "    precision = np.nan_to_num(precision)\n",
        "    recall = np.nan_to_num(recall)\n",
        "\n",
        "    # 計算每個類別的 F1 分數\n",
        "    f1_scores = 2 * (precision * recall) / (precision + recall)\n",
        "\n",
        "    # 計算宏平均 F1 分數\n",
        "    macro_f1 = np.nanmean(f1_scores)\n",
        "    return macro_f1\n",
        "\n",
        "def macro_f1_score_v2(confusion_matrix):\n",
        "  tp = np.diag(confusion_matrix)\n",
        "\n",
        "  fp = np.sum(confusion_matrix, axis=0) - tp\n",
        "  fn = np.sum(confusion_matrix, axis=1) - tp\n",
        "\n",
        "  mean_precision = np.mean(tp / (tp + fp))\n",
        "  mean_recall = np.mean(tp / (tp + fn))\n",
        "\n",
        "  macro_f1 = 2 * (mean_precision * mean_recall) / (mean_precision + mean_recall)\n",
        "\n",
        "  return macro_f1"
      ],
      "metadata": {
        "id": "9WDlDumAip_1"
      },
      "execution_count": null,
      "outputs": []
    },
    {
      "cell_type": "code",
      "source": [
        "# 甲分類器的F1 score (first version)\n",
        "f1_1_v1 = macro_f1_score_v1(conf_matrix_1)\n",
        "\n",
        "# 甲分類器的F1 score (second version)\n",
        "f1_1_v2 = macro_f1_score_v2(conf_matrix_1)\n",
        "\n",
        "# 乙分類器的F1 score (first version)\n",
        "f1_2_v1 = macro_f1_score_v1(conf_matrix_2)\n",
        "\n",
        "# 乙分類器的F1 score (second version)\n",
        "f1_2_v2 = macro_f1_score_v2(conf_matrix_2)\n",
        "\n",
        "print(f\"\"\"\n",
        "Q7:\n",
        "  甲分類器的F1 score (first version): {f1_1_v1} \\n\n",
        "\n",
        "  甲分類器的F1 score (second version): {f1_1_v2} \\n\n",
        "\n",
        "  乙分類器的F1 score (first version): {f1_2_v1} \\n\n",
        "\n",
        "  乙分類器的F1 score (second version): {f1_2_v2}\n",
        "\"\"\")"
      ],
      "metadata": {
        "colab": {
          "base_uri": "https://localhost:8080/"
        },
        "id": "rA-WxHrIkpkm",
        "outputId": "c6c23bee-daa7-43b0-85be-e5879477700a"
      },
      "execution_count": null,
      "outputs": [
        {
          "output_type": "stream",
          "name": "stdout",
          "text": [
            "\n",
            "Q7:\n",
            "  甲分類器的F1 score (first version): 0.28926293079496107 \n",
            "\n",
            "      \n",
            "  甲分類器的F1 score (second version): 0.31000011144896517 \n",
            "\n",
            "\n",
            "  乙分類器的F1 score (first version): 0.22038251244665716 \n",
            "\n",
            "\n",
            "  乙分類器的F1 score (second version): 0.22828948274110325\n",
            "\n"
          ]
        }
      ]
    },
    {
      "cell_type": "code",
      "source": [
        "# Q8\n",
        "print(\"\"\"\n",
        "Q8:\n",
        "  兩種F1 score對兩個分類器都有相同的評價，都是甲分類器優於乙分類器\n",
        "  (甲的兩種F1 score都比乙的兩種F1 score大)\n",
        "\"\"\")"
      ],
      "metadata": {
        "colab": {
          "base_uri": "https://localhost:8080/"
        },
        "id": "jtAhiLGbjbiF",
        "outputId": "88c95761-cce6-44ca-825c-5e54b4d5c095"
      },
      "execution_count": null,
      "outputs": [
        {
          "output_type": "stream",
          "name": "stdout",
          "text": [
            "\n",
            "Q8:\n",
            "  兩種F1 score對兩個分類器都有相同的評價，都是甲分類器優於乙分類器\n",
            "  (甲的兩種F1 score都比乙的兩種F1 score大)\n",
            "\n"
          ]
        }
      ]
    }
  ]
}