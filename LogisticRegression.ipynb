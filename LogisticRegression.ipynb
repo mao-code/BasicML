{
  "nbformat": 4,
  "nbformat_minor": 0,
  "metadata": {
    "colab": {
      "provenance": []
    },
    "kernelspec": {
      "name": "python3",
      "display_name": "Python 3"
    },
    "language_info": {
      "name": "python"
    }
  },
  "cells": [
    {
      "cell_type": "markdown",
      "source": [
        "# Initialization"
      ],
      "metadata": {
        "id": "HHDx6YEeaqhV"
      }
    },
    {
      "cell_type": "markdown",
      "source": [
        "## Packages Loading"
      ],
      "metadata": {
        "id": "D71cqv6javsi"
      }
    },
    {
      "cell_type": "code",
      "execution_count": 3,
      "metadata": {
        "id": "-JKPmJjuag_f"
      },
      "outputs": [],
      "source": [
        "from typing import *\n",
        "import math\n",
        "\n",
        "import numpy as np\n",
        "import pandas as pd\n",
        "import matplotlib.pyplot as plt"
      ]
    },
    {
      "cell_type": "markdown",
      "source": [
        "## Model Initialization\n",
        "model:\n",
        "$$ \\log{\\frac{P(1|a1)}{P(0|a1)}} = w_1a_1 + w_0a_0 \\space;\\space a_0 = 1 $$ \\\\\n",
        "\n",
        "so $P(1|a1)$ is:\n",
        "$$ Pr(1|a_1) = \\frac{1}{1 + e^{-(w_1a_1+w_0)}} $$"
      ],
      "metadata": {
        "id": "sx3n-hl8bShE"
      }
    },
    {
      "cell_type": "code",
      "source": [
        "class LogisticRegressionModel:\n",
        "  def __init__(self, w1, w0):\n",
        "    self.w1 = w1\n",
        "    self.w0 = w0\n",
        "\n",
        "  def get_predict_result(self, a1: np.ndarray) -> np.ndarray:\n",
        "    pred = []\n",
        "    for inp in a1:\n",
        "      prob = 1 / (1 + math.exp(-(self.w1*inp + self.w0)))\n",
        "      pred.append(prob)\n",
        "\n",
        "    return np.array(pred)"
      ],
      "metadata": {
        "id": "PidOwUFbbUu-"
      },
      "execution_count": 11,
      "outputs": []
    },
    {
      "cell_type": "markdown",
      "source": [
        "# Data Loading"
      ],
      "metadata": {
        "id": "faAr2Es4asnZ"
      }
    },
    {
      "cell_type": "code",
      "source": [
        "D = np.array([[-3, 0], [-1, 0], [1, 1], [3, 1]])"
      ],
      "metadata": {
        "id": "-6gdkorWatgv"
      },
      "execution_count": 2,
      "outputs": []
    },
    {
      "cell_type": "markdown",
      "source": [
        "# Q6\n",
        "* 使用 [desmos](https://www.desmos.com/) 繪製下面的方程式圖形\n",
        "$$ Pr(1|a_1) = \\frac{1}{1 + e^{-(w_1a_1+w_0)}} $$\n",
        "其中 $w_1 = 0.9$ $w_0 = 0$ \\\\\n",
        "所以方程式為：\n",
        "$$ Pr(1|a_1) = \\frac{1}{1 + e^{-(0.9a_1)}} $$\n",
        "\n",
        "* 結果：\n",
        "<img width=1000px src=\"https://lh3.google.com/u/0/d/1VIwBHSN62gzXX5nVnTYRxxqJDlfhJAf5=w2992-h1654-iv2\"></img>"
      ],
      "metadata": {
        "id": "Lc48-gVVdQyt"
      }
    },
    {
      "cell_type": "markdown",
      "source": [
        "# Q7"
      ],
      "metadata": {
        "id": "iIb7NwWml0xk"
      }
    },
    {
      "cell_type": "code",
      "source": [
        "model = LogisticRegressionModel(0.9, 0)"
      ],
      "metadata": {
        "id": "y6SePeLhl1XX"
      },
      "execution_count": 12,
      "outputs": []
    },
    {
      "cell_type": "code",
      "source": [
        "prob_output = model.get_predict_result(D[:, 0])\n",
        "print(f\"利用這個模型，以我們的資料，預測他們為 '1' 的機率如下：\")\n",
        "print(prob_output)"
      ],
      "metadata": {
        "colab": {
          "base_uri": "https://localhost:8080/"
        },
        "id": "8qDfpu1Mnzh1",
        "outputId": "905f028d-7e37-47bc-ce40-68cb829666fc"
      },
      "execution_count": 16,
      "outputs": [
        {
          "output_type": "stream",
          "name": "stdout",
          "text": [
            "利用這個模型，以我們的資料，預測他們為 '1' 的機率如下：\n",
            "[0.06297336 0.2890505  0.7109495  0.93702664]\n"
          ]
        }
      ]
    },
    {
      "cell_type": "markdown",
      "source": [
        "# Q8\n",
        "log-likelihood定義：\n",
        "$$\n",
        "LogLikelihood = \\sum_{i=1}^{n}{e_i}\n",
        "$$\n",
        "\n",
        "$$\n",
        "e_i = (1-y^{(i)})\\log{(1-Pr(1|x_1^{(i)}, x_2^{(i)}, \\ldots, x_k^{(i)}))} + y^{(i)}\\log{(Pr(1|x_1^{(i)}, x_2^{(i)}, \\ldots, x_k^{(i)}))}\n",
        "$$ \\\\\n",
        "\n",
        "其中 $y$ 為 ground truth，$x_j^i$ 為 feature $j$ 的第 $i$ 筆資料 \\\\\n",
        " \\\\\n",
        "其實上面的式子就是下面這個定義\n",
        " \\\\\n",
        " \\\\\n",
        "$$\n",
        "e_i =\n",
        "\\begin{cases}\n",
        "    \\log{(Pr(0|x_1^{(i)}, x_2^{(i)}, \\ldots, x_k^{(i)})} \\space ; \\space if \\space y^{(i))} = 0 \\\\\n",
        "     \\\\\n",
        "    \\log{(Pr(1|x_1^{(i)}, x_2^{(i)}, \\ldots, x_k^{(i)}))} \\space ; \\space if \\space y^{(i)} = 1\n",
        "\\end{cases}\n",
        "$$\n"
      ],
      "metadata": {
        "id": "R_8dxkL9l2Ra"
      }
    },
    {
      "cell_type": "code",
      "source": [
        "def log_likelihood(pred_true: np.ndarray, gt: np.ndarray):\n",
        "  n = len(pred_true)\n",
        "  total_e = 0\n",
        "  for i in range(n):\n",
        "    e_i = (1-gt[i])*(1 - pred_true[i]) + gt[i]*(pred_true[i])\n",
        "    total_e += e_i\n",
        "\n",
        "  return total_e"
      ],
      "metadata": {
        "id": "bXu-BHKAl2yh"
      },
      "execution_count": 17,
      "outputs": []
    },
    {
      "cell_type": "code",
      "source": [
        "llh = log_likelihood(prob_output, D[:, 1])"
      ],
      "metadata": {
        "id": "JwEV1WrXN5WM"
      },
      "execution_count": 18,
      "outputs": []
    },
    {
      "cell_type": "code",
      "source": [
        "print(f\"以這個模型得出的log-likelihood為：{llh}\")"
      ],
      "metadata": {
        "colab": {
          "base_uri": "https://localhost:8080/"
        },
        "id": "CAjif5X2OLfs",
        "outputId": "b83edeeb-928f-401c-9f17-db684a44499e"
      },
      "execution_count": 19,
      "outputs": [
        {
          "output_type": "stream",
          "name": "stdout",
          "text": [
            "以這個模型得出的log-likelihood為：3.295952293136015\n"
          ]
        }
      ]
    },
    {
      "cell_type": "markdown",
      "source": [
        "# Q9"
      ],
      "metadata": {
        "id": "ESa26G71l5LM"
      }
    },
    {
      "cell_type": "code",
      "source": [
        "model_2 = LogisticRegressionModel(0.923, 0)"
      ],
      "metadata": {
        "id": "4x2rbqcwl5uI"
      },
      "execution_count": 27,
      "outputs": []
    },
    {
      "cell_type": "code",
      "source": [
        "prob_output_2 = model_2.get_predict_result(D[:, 0])\n",
        "print(f\"利用這個模型2，以我們的資料，預測他們為 '1' 的機率如下：\")\n",
        "print(prob_output_2)"
      ],
      "metadata": {
        "colab": {
          "base_uri": "https://localhost:8080/"
        },
        "id": "i2XFP_w3Ojkx",
        "outputId": "34e193b3-89dc-4f4d-b157-d70d1087eecf"
      },
      "execution_count": 30,
      "outputs": [
        {
          "output_type": "stream",
          "name": "stdout",
          "text": [
            "利用這個模型2，以我們的資料，預測他們為 '1' 的機率如下：\n",
            "[0.05902253 0.28434702 0.71565298 0.94097747]\n"
          ]
        }
      ]
    },
    {
      "cell_type": "markdown",
      "source": [
        "# Q10"
      ],
      "metadata": {
        "id": "5CmYV1CEl6CP"
      }
    },
    {
      "cell_type": "code",
      "source": [
        "llh_2 = log_likelihood(prob_output_2, D[:, 1])"
      ],
      "metadata": {
        "id": "1II-UUqnl6mm"
      },
      "execution_count": 31,
      "outputs": []
    },
    {
      "cell_type": "code",
      "source": [
        "print(f\"以這個模型2得出的log-likelihood為：{llh_2}\")"
      ],
      "metadata": {
        "colab": {
          "base_uri": "https://localhost:8080/"
        },
        "id": "ccWnZ0xDOwV5",
        "outputId": "8e86efe5-05ae-424a-ad6b-2bc07e7e45e4"
      },
      "execution_count": 32,
      "outputs": [
        {
          "output_type": "stream",
          "name": "stdout",
          "text": [
            "以這個模型2得出的log-likelihood為：3.3132609079605304\n"
          ]
        }
      ]
    },
    {
      "cell_type": "markdown",
      "source": [
        "# Q11\n",
        "* 以log-likelihood來說，數值越大代表模型效果越好\n",
        "  * 當ground truth為0，希望模型預測出來0的機率也要越大\n",
        "  * 當ground truth為1，希望模型預測出來1的機率也要越大\n",
        "  * 總合起來，如果log-likelihood越大代表模型預測結果越接近ground truth\n",
        "* 所以以上面兩個模型的log-likelihood來說，是第二個模型的效果比較好"
      ],
      "metadata": {
        "id": "IPCfxpxFl7BX"
      }
    },
    {
      "cell_type": "markdown",
      "source": [
        "# Q12"
      ],
      "metadata": {
        "id": "xuOlccCWl71O"
      }
    },
    {
      "cell_type": "code",
      "source": [
        "table = {\n",
        "    \"model1\": prob_output,\n",
        "    \"model2\": prob_output_2,\n",
        "    \"ground_truth\": D[:,1]\n",
        "}\n",
        "\n",
        "df = pd.DataFrame(table)"
      ],
      "metadata": {
        "id": "cOsMLZVnl8Xe"
      },
      "execution_count": 35,
      "outputs": []
    },
    {
      "cell_type": "code",
      "source": [
        "df"
      ],
      "metadata": {
        "colab": {
          "base_uri": "https://localhost:8080/",
          "height": 175
        },
        "id": "2kVdJZHkQIws",
        "outputId": "a2c9aaee-e847-4031-f281-f0a9af1f0825"
      },
      "execution_count": 36,
      "outputs": [
        {
          "output_type": "execute_result",
          "data": {
            "text/plain": [
              "     model1    model2  ground_truth\n",
              "0  0.062973  0.059023             0\n",
              "1  0.289050  0.284347             0\n",
              "2  0.710950  0.715653             1\n",
              "3  0.937027  0.940977             1"
            ],
            "text/html": [
              "\n",
              "  <div id=\"df-f2d04651-04d3-4c77-876f-80e865804e8e\" class=\"colab-df-container\">\n",
              "    <div>\n",
              "<style scoped>\n",
              "    .dataframe tbody tr th:only-of-type {\n",
              "        vertical-align: middle;\n",
              "    }\n",
              "\n",
              "    .dataframe tbody tr th {\n",
              "        vertical-align: top;\n",
              "    }\n",
              "\n",
              "    .dataframe thead th {\n",
              "        text-align: right;\n",
              "    }\n",
              "</style>\n",
              "<table border=\"1\" class=\"dataframe\">\n",
              "  <thead>\n",
              "    <tr style=\"text-align: right;\">\n",
              "      <th></th>\n",
              "      <th>model1</th>\n",
              "      <th>model2</th>\n",
              "      <th>ground_truth</th>\n",
              "    </tr>\n",
              "  </thead>\n",
              "  <tbody>\n",
              "    <tr>\n",
              "      <th>0</th>\n",
              "      <td>0.062973</td>\n",
              "      <td>0.059023</td>\n",
              "      <td>0</td>\n",
              "    </tr>\n",
              "    <tr>\n",
              "      <th>1</th>\n",
              "      <td>0.289050</td>\n",
              "      <td>0.284347</td>\n",
              "      <td>0</td>\n",
              "    </tr>\n",
              "    <tr>\n",
              "      <th>2</th>\n",
              "      <td>0.710950</td>\n",
              "      <td>0.715653</td>\n",
              "      <td>1</td>\n",
              "    </tr>\n",
              "    <tr>\n",
              "      <th>3</th>\n",
              "      <td>0.937027</td>\n",
              "      <td>0.940977</td>\n",
              "      <td>1</td>\n",
              "    </tr>\n",
              "  </tbody>\n",
              "</table>\n",
              "</div>\n",
              "    <div class=\"colab-df-buttons\">\n",
              "\n",
              "  <div class=\"colab-df-container\">\n",
              "    <button class=\"colab-df-convert\" onclick=\"convertToInteractive('df-f2d04651-04d3-4c77-876f-80e865804e8e')\"\n",
              "            title=\"Convert this dataframe to an interactive table.\"\n",
              "            style=\"display:none;\">\n",
              "\n",
              "  <svg xmlns=\"http://www.w3.org/2000/svg\" height=\"24px\" viewBox=\"0 -960 960 960\">\n",
              "    <path d=\"M120-120v-720h720v720H120Zm60-500h600v-160H180v160Zm220 220h160v-160H400v160Zm0 220h160v-160H400v160ZM180-400h160v-160H180v160Zm440 0h160v-160H620v160ZM180-180h160v-160H180v160Zm440 0h160v-160H620v160Z\"/>\n",
              "  </svg>\n",
              "    </button>\n",
              "\n",
              "  <style>\n",
              "    .colab-df-container {\n",
              "      display:flex;\n",
              "      gap: 12px;\n",
              "    }\n",
              "\n",
              "    .colab-df-convert {\n",
              "      background-color: #E8F0FE;\n",
              "      border: none;\n",
              "      border-radius: 50%;\n",
              "      cursor: pointer;\n",
              "      display: none;\n",
              "      fill: #1967D2;\n",
              "      height: 32px;\n",
              "      padding: 0 0 0 0;\n",
              "      width: 32px;\n",
              "    }\n",
              "\n",
              "    .colab-df-convert:hover {\n",
              "      background-color: #E2EBFA;\n",
              "      box-shadow: 0px 1px 2px rgba(60, 64, 67, 0.3), 0px 1px 3px 1px rgba(60, 64, 67, 0.15);\n",
              "      fill: #174EA6;\n",
              "    }\n",
              "\n",
              "    .colab-df-buttons div {\n",
              "      margin-bottom: 4px;\n",
              "    }\n",
              "\n",
              "    [theme=dark] .colab-df-convert {\n",
              "      background-color: #3B4455;\n",
              "      fill: #D2E3FC;\n",
              "    }\n",
              "\n",
              "    [theme=dark] .colab-df-convert:hover {\n",
              "      background-color: #434B5C;\n",
              "      box-shadow: 0px 1px 3px 1px rgba(0, 0, 0, 0.15);\n",
              "      filter: drop-shadow(0px 1px 2px rgba(0, 0, 0, 0.3));\n",
              "      fill: #FFFFFF;\n",
              "    }\n",
              "  </style>\n",
              "\n",
              "    <script>\n",
              "      const buttonEl =\n",
              "        document.querySelector('#df-f2d04651-04d3-4c77-876f-80e865804e8e button.colab-df-convert');\n",
              "      buttonEl.style.display =\n",
              "        google.colab.kernel.accessAllowed ? 'block' : 'none';\n",
              "\n",
              "      async function convertToInteractive(key) {\n",
              "        const element = document.querySelector('#df-f2d04651-04d3-4c77-876f-80e865804e8e');\n",
              "        const dataTable =\n",
              "          await google.colab.kernel.invokeFunction('convertToInteractive',\n",
              "                                                    [key], {});\n",
              "        if (!dataTable) return;\n",
              "\n",
              "        const docLinkHtml = 'Like what you see? Visit the ' +\n",
              "          '<a target=\"_blank\" href=https://colab.research.google.com/notebooks/data_table.ipynb>data table notebook</a>'\n",
              "          + ' to learn more about interactive tables.';\n",
              "        element.innerHTML = '';\n",
              "        dataTable['output_type'] = 'display_data';\n",
              "        await google.colab.output.renderOutput(dataTable, element);\n",
              "        const docLink = document.createElement('div');\n",
              "        docLink.innerHTML = docLinkHtml;\n",
              "        element.appendChild(docLink);\n",
              "      }\n",
              "    </script>\n",
              "  </div>\n",
              "\n",
              "\n",
              "<div id=\"df-712f2544-e11a-4e2d-8bc5-b9ef480ac389\">\n",
              "  <button class=\"colab-df-quickchart\" onclick=\"quickchart('df-712f2544-e11a-4e2d-8bc5-b9ef480ac389')\"\n",
              "            title=\"Suggest charts.\"\n",
              "            style=\"display:none;\">\n",
              "\n",
              "<svg xmlns=\"http://www.w3.org/2000/svg\" height=\"24px\"viewBox=\"0 0 24 24\"\n",
              "     width=\"24px\">\n",
              "    <g>\n",
              "        <path d=\"M19 3H5c-1.1 0-2 .9-2 2v14c0 1.1.9 2 2 2h14c1.1 0 2-.9 2-2V5c0-1.1-.9-2-2-2zM9 17H7v-7h2v7zm4 0h-2V7h2v10zm4 0h-2v-4h2v4z\"/>\n",
              "    </g>\n",
              "</svg>\n",
              "  </button>\n",
              "\n",
              "<style>\n",
              "  .colab-df-quickchart {\n",
              "      --bg-color: #E8F0FE;\n",
              "      --fill-color: #1967D2;\n",
              "      --hover-bg-color: #E2EBFA;\n",
              "      --hover-fill-color: #174EA6;\n",
              "      --disabled-fill-color: #AAA;\n",
              "      --disabled-bg-color: #DDD;\n",
              "  }\n",
              "\n",
              "  [theme=dark] .colab-df-quickchart {\n",
              "      --bg-color: #3B4455;\n",
              "      --fill-color: #D2E3FC;\n",
              "      --hover-bg-color: #434B5C;\n",
              "      --hover-fill-color: #FFFFFF;\n",
              "      --disabled-bg-color: #3B4455;\n",
              "      --disabled-fill-color: #666;\n",
              "  }\n",
              "\n",
              "  .colab-df-quickchart {\n",
              "    background-color: var(--bg-color);\n",
              "    border: none;\n",
              "    border-radius: 50%;\n",
              "    cursor: pointer;\n",
              "    display: none;\n",
              "    fill: var(--fill-color);\n",
              "    height: 32px;\n",
              "    padding: 0;\n",
              "    width: 32px;\n",
              "  }\n",
              "\n",
              "  .colab-df-quickchart:hover {\n",
              "    background-color: var(--hover-bg-color);\n",
              "    box-shadow: 0 1px 2px rgba(60, 64, 67, 0.3), 0 1px 3px 1px rgba(60, 64, 67, 0.15);\n",
              "    fill: var(--button-hover-fill-color);\n",
              "  }\n",
              "\n",
              "  .colab-df-quickchart-complete:disabled,\n",
              "  .colab-df-quickchart-complete:disabled:hover {\n",
              "    background-color: var(--disabled-bg-color);\n",
              "    fill: var(--disabled-fill-color);\n",
              "    box-shadow: none;\n",
              "  }\n",
              "\n",
              "  .colab-df-spinner {\n",
              "    border: 2px solid var(--fill-color);\n",
              "    border-color: transparent;\n",
              "    border-bottom-color: var(--fill-color);\n",
              "    animation:\n",
              "      spin 1s steps(1) infinite;\n",
              "  }\n",
              "\n",
              "  @keyframes spin {\n",
              "    0% {\n",
              "      border-color: transparent;\n",
              "      border-bottom-color: var(--fill-color);\n",
              "      border-left-color: var(--fill-color);\n",
              "    }\n",
              "    20% {\n",
              "      border-color: transparent;\n",
              "      border-left-color: var(--fill-color);\n",
              "      border-top-color: var(--fill-color);\n",
              "    }\n",
              "    30% {\n",
              "      border-color: transparent;\n",
              "      border-left-color: var(--fill-color);\n",
              "      border-top-color: var(--fill-color);\n",
              "      border-right-color: var(--fill-color);\n",
              "    }\n",
              "    40% {\n",
              "      border-color: transparent;\n",
              "      border-right-color: var(--fill-color);\n",
              "      border-top-color: var(--fill-color);\n",
              "    }\n",
              "    60% {\n",
              "      border-color: transparent;\n",
              "      border-right-color: var(--fill-color);\n",
              "    }\n",
              "    80% {\n",
              "      border-color: transparent;\n",
              "      border-right-color: var(--fill-color);\n",
              "      border-bottom-color: var(--fill-color);\n",
              "    }\n",
              "    90% {\n",
              "      border-color: transparent;\n",
              "      border-bottom-color: var(--fill-color);\n",
              "    }\n",
              "  }\n",
              "</style>\n",
              "\n",
              "  <script>\n",
              "    async function quickchart(key) {\n",
              "      const quickchartButtonEl =\n",
              "        document.querySelector('#' + key + ' button');\n",
              "      quickchartButtonEl.disabled = true;  // To prevent multiple clicks.\n",
              "      quickchartButtonEl.classList.add('colab-df-spinner');\n",
              "      try {\n",
              "        const charts = await google.colab.kernel.invokeFunction(\n",
              "            'suggestCharts', [key], {});\n",
              "      } catch (error) {\n",
              "        console.error('Error during call to suggestCharts:', error);\n",
              "      }\n",
              "      quickchartButtonEl.classList.remove('colab-df-spinner');\n",
              "      quickchartButtonEl.classList.add('colab-df-quickchart-complete');\n",
              "    }\n",
              "    (() => {\n",
              "      let quickchartButtonEl =\n",
              "        document.querySelector('#df-712f2544-e11a-4e2d-8bc5-b9ef480ac389 button');\n",
              "      quickchartButtonEl.style.display =\n",
              "        google.colab.kernel.accessAllowed ? 'block' : 'none';\n",
              "    })();\n",
              "  </script>\n",
              "</div>\n",
              "    </div>\n",
              "  </div>\n"
            ]
          },
          "metadata": {},
          "execution_count": 36
        }
      ]
    },
    {
      "cell_type": "code",
      "source": [
        "print(\"\"\"\n",
        "由上面的數據表可知，\n",
        "在每一個ground truth的接近度上面，\n",
        "model2都表現得比model1還要好 (GT為0的話，判斷為1機率較低；GT為1的話，判斷為1的機率較高)\n",
        "\"\"\")"
      ],
      "metadata": {
        "colab": {
          "base_uri": "https://localhost:8080/"
        },
        "id": "O9g0SwDzQJZ0",
        "outputId": "69ce9f93-5114-4e1a-90fc-14706f0331a6"
      },
      "execution_count": 37,
      "outputs": [
        {
          "output_type": "stream",
          "name": "stdout",
          "text": [
            "\n",
            "由上面的數據表可知，\n",
            "在每一個ground truth的接近度上面，\n",
            "model2都表現得比model1還要好 (GT為0的話，判斷為1機率較低；GT為1的話，判斷為1的機率較高)\n",
            "\n"
          ]
        }
      ]
    }
  ]
}